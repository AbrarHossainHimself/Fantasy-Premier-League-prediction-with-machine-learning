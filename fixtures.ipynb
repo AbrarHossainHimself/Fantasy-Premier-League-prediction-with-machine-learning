{
 "cells": [
  {
   "cell_type": "code",
   "execution_count": 46,
   "metadata": {},
   "outputs": [],
   "source": [
    "import pandas as pd"
   ]
  },
  {
   "cell_type": "code",
   "execution_count": 47,
   "metadata": {},
   "outputs": [],
   "source": [
    "%run helper_functions.ipynb\n",
    "%run creating_Dataframes.ipynb"
   ]
  },
  {
   "cell_type": "markdown",
   "metadata": {},
   "source": [
    "**Reading the fixtures**"
   ]
  },
  {
   "cell_type": "code",
   "execution_count": 48,
   "metadata": {},
   "outputs": [],
   "source": [
    "current_gw = 29\n",
    "gw_fixtures = pd.read_csv(path/'fixtures.csv')\n",
    "gw_fixtures = gw_fixtures[gw_fixtures['gw']>= current_gw]"
   ]
  },
  {
   "cell_type": "markdown",
   "metadata": {},
   "source": [
    "**Merging with 'teams' DF to get team codes in 'gw_fixtures' and keeping relevant columns and renaming the columns**"
   ]
  },
  {
   "cell_type": "code",
   "execution_count": 49,
   "metadata": {},
   "outputs": [],
   "source": [
    "# merging with teams DF to get team codes in fixtures\n",
    "gw_fixtures = gw_fixtures.merge(teams, left_on = 'home_team', right_on = 'team', how ='left')\n",
    "gw_fixtures = gw_fixtures.merge(teams, left_on = 'away_team', right_on = 'team', how ='left')\n",
    "\n",
    "# keeping relevant columns and renaming the columns\n",
    "gw_fixtures = gw_fixtures[['gw', 'home_team', 'away_team','team_code_x', 'team_code_y']]\n",
    "gw_fixtures = gw_fixtures.rename(index = str,\n",
    "                                 columns = {'team_code_x':'home_team_code',\n",
    "                                            'team_code_y':'away_team_code'})"
   ]
  },
  {
   "cell_type": "code",
   "execution_count": 50,
   "metadata": {},
   "outputs": [],
   "source": [
    "# gw_fixtures"
   ]
  },
  {
   "cell_type": "markdown",
   "metadata": {},
   "source": [
    "**creating DF for home teams**"
   ]
  },
  {
   "cell_type": "code",
   "execution_count": 51,
   "metadata": {},
   "outputs": [],
   "source": [
    "#creating DF for home teams\n",
    "home_df = gw_fixtures.merge(all_players, left_on = 'home_team_code', right_on = 'team_1920',how = 'left')\n",
    "#keeping relevant columns\n",
    "home_df = home_df[['gw','home_team', 'away_team','full_name','position_1920', 'cost_1920', 'play_proba_1920']]\n",
    "#reanming columns\n",
    "home_df = home_df.rename(index = str,\n",
    "                        columns = {'home_team': 'team',\n",
    "                                  'away_team': 'opponent_team',\n",
    "                                  'full_name':'player',\n",
    "                                  'position_1920':'position',\n",
    "                                  'cost_1920':'price',\n",
    "                                  'play_proba_1920':'play_proba'})\n",
    "\n",
    "#setting the flag for 'was_home' to True\n",
    "home_df['was_home'] =  True"
   ]
  },
  {
   "cell_type": "markdown",
   "metadata": {},
   "source": [
    "**creating DF for away teams**"
   ]
  },
  {
   "cell_type": "code",
   "execution_count": 52,
   "metadata": {},
   "outputs": [],
   "source": [
    "#creating DF for home teams\n",
    "away_df = gw_fixtures.merge(all_players, left_on = 'away_team_code', right_on = 'team_1920',how = 'left',sort = False)\n",
    "#keeping relevant columns\n",
    "away_df = away_df[['gw','home_team', 'away_team','full_name','position_1920', 'cost_1920', 'play_proba_1920']]\n",
    "#reanming columns\n",
    "away_df = away_df.rename(index = str,\n",
    "                        columns = {'away_team': 'team',\n",
    "                                   'home_team': 'opponent_team',\n",
    "                                   'full_name':'player',\n",
    "                                   'position_1920':'position',\n",
    "                                   'cost_1920':'price',\n",
    "                                   'play_proba_1920':'play_proba'})\n",
    "\n",
    "#setting the flag for 'was_home' to True\n",
    "away_df['was_home'] =  False"
   ]
  },
  {
   "cell_type": "markdown",
   "metadata": {},
   "source": [
    "**Getting DF for remaining season**"
   ]
  },
  {
   "cell_type": "code",
   "execution_count": 53,
   "metadata": {},
   "outputs": [],
   "source": [
    "remaining_season_df = home_df.append(away_df).reset_index(drop = True) #check this, might cause a bug\n",
    "remaining_season_df['season'] = '1920'\n",
    "\n",
    "#dividing 'price' by 10 to get real price\n",
    "remaining_season_df['price'] = remaining_season_df['price']/10\n",
    "\n",
    "#set availibilty chance to \n",
    "# 0 for 0%, 25 for 25%, 50 for 50%, 75 for 75%, 100 for 100%\n",
    "remaining_season_df.loc[remaining_season_df['play_proba'] == 'None', 'play_proba'] = 100\n",
    "remaining_season_df['play_proba'] = remaining_season_df['play_proba'].astype(float)/100\n",
    "\n",
    "#multiplying 'play_proba' with 90 to get expected minutes\n",
    "remaining_season_df['minutes'] = 90 * remaining_season_df['play_proba']\n",
    "\n",
    "#setting 'position' column to int type\n",
    "remaining_season_df['position'] = remaining_season_df['position'].astype(int)\n",
    "\n"
   ]
  },
  {
   "cell_type": "markdown",
   "metadata": {},
   "source": [
    "**Combining the xG dataset with the reamining season data**"
   ]
  },
  {
   "cell_type": "code",
   "execution_count": 54,
   "metadata": {},
   "outputs": [],
   "source": [
    "xg_dataset = pd.read_csv(r'C:\\Users\\Asus\\PycharmProjects\\FPL Project\\my_data\\all_season_xg_data.csv', index_col=0)"
   ]
  },
  {
   "cell_type": "markdown",
   "metadata": {},
   "source": [
    "**Converting 'season' column to string from int**"
   ]
  },
  {
   "cell_type": "code",
   "execution_count": 55,
   "metadata": {},
   "outputs": [],
   "source": [
    "xg_dataset['season'] = xg_dataset['season'].astype(str)"
   ]
  },
  {
   "cell_type": "markdown",
   "metadata": {},
   "source": [
    "**Concetanating the xG dataset with the reamining season dataset**"
   ]
  },
  {
   "cell_type": "code",
   "execution_count": 56,
   "metadata": {},
   "outputs": [],
   "source": [
    "remaining_season_df = remaining_season_df.merge(xg_dataset, on = ['team','season'], how = 'left')"
   ]
  },
  {
   "cell_type": "markdown",
   "metadata": {},
   "source": [
    "**Saving as csv**"
   ]
  },
  {
   "cell_type": "code",
   "execution_count": 57,
   "metadata": {
    "scrolled": true
   },
   "outputs": [],
   "source": [
    "remaining_season_df.to_csv(r'C:\\Users\\Asus\\PycharmProjects\\FPL Project\\my_data\\remaining_season.csv')\n",
    "# remaining_season_df.to_excel(r'C:\\Users\\Asus\\PycharmProjects\\FPL Project\\my_data\\remaining_season.xlsx')"
   ]
  },
  {
   "cell_type": "code",
   "execution_count": 58,
   "metadata": {},
   "outputs": [
    {
     "data": {
      "text/plain": [
       "<bound method NDFrame.head of       gw season\n",
       "0     30   1920\n",
       "1     30   1920\n",
       "2     30   1920\n",
       "3     30   1920\n",
       "4     30   1920\n",
       "...   ..    ...\n",
       "6673  38   1920\n",
       "6674  38   1920\n",
       "6675  38   1920\n",
       "6676  38   1920\n",
       "6677  38   1920\n",
       "\n",
       "[6678 rows x 2 columns]>"
      ]
     },
     "execution_count": 58,
     "metadata": {},
     "output_type": "execute_result"
    }
   ],
   "source": [
    "remaining_season_df[['gw','season']].head"
   ]
  },
  {
   "cell_type": "code",
   "execution_count": 59,
   "metadata": {},
   "outputs": [
    {
     "data": {
      "text/plain": [
       "Index(['gw', 'team', 'opponent_team', 'player', 'position', 'price',\n",
       "       'play_proba', 'was_home', 'season', 'minutes', 'xG', 'xGA', 'npxG',\n",
       "       'npxGA'],\n",
       "      dtype='object')"
      ]
     },
     "execution_count": 59,
     "metadata": {},
     "output_type": "execute_result"
    }
   ],
   "source": [
    "remaining_season_df.columns"
   ]
  },
  {
   "cell_type": "code",
   "execution_count": null,
   "metadata": {},
   "outputs": [],
   "source": []
  }
 ],
 "metadata": {
  "kernelspec": {
   "display_name": "Python 3",
   "language": "python",
   "name": "python3"
  },
  "language_info": {
   "codemirror_mode": {
    "name": "ipython",
    "version": 3
   },
   "file_extension": ".py",
   "mimetype": "text/x-python",
   "name": "python",
   "nbconvert_exporter": "python",
   "pygments_lexer": "ipython3",
   "version": "3.8.3"
  }
 },
 "nbformat": 4,
 "nbformat_minor": 2
}
