{
 "cells": [
  {
   "cell_type": "code",
   "execution_count": 17,
   "metadata": {},
   "outputs": [],
   "source": [
    "import pandas as pd"
   ]
  },
  {
   "cell_type": "code",
   "execution_count": 18,
   "metadata": {},
   "outputs": [],
   "source": [
    "%run helper_functions.ipynb\n",
    "%run creating_Dataframes.ipynb\n",
    "%run fixtures.ipynb\n",
    "%run training_set.ipynb"
   ]
  },
  {
   "cell_type": "markdown",
   "metadata": {},
   "source": [
    "**get latest GW**"
   ]
  },
  {
   "cell_type": "code",
   "execution_count": 19,
   "metadata": {},
   "outputs": [],
   "source": [
    "#find latest GW\n",
    "last_gw = all_season_df['gw'][all_season_df['season'] == '1920'].max()\n",
    "\n",
    "if np.isnan(last_gw):\n",
    "    last_gw = 1\n",
    "else:\n",
    "    last_gw = last_gw + 1"
   ]
  },
  {
   "cell_type": "markdown",
   "metadata": {},
   "source": [
    "**get DF for latest GW**"
   ]
  },
  {
   "cell_type": "code",
   "execution_count": 20,
   "metadata": {},
   "outputs": [],
   "source": [
    "df_latest_gw = build_season(season_paths[3],season_names[3], teams, all_players, [last_gw])"
   ]
  },
  {
   "cell_type": "code",
   "execution_count": 21,
   "metadata": {},
   "outputs": [],
   "source": [
    "df_latest_gw.drop_duplicates(inplace = True)"
   ]
  },
  {
   "cell_type": "markdown",
   "metadata": {},
   "source": [
    "**get 'player_proba' for the last GW**"
   ]
  },
  {
   "cell_type": "code",
   "execution_count": 22,
   "metadata": {},
   "outputs": [],
   "source": [
    "last_gw_player_proba = remaining_season_df[remaining_season_df['gw']== last_gw][['player','play_proba']]"
   ]
  },
  {
   "cell_type": "code",
   "execution_count": 23,
   "metadata": {},
   "outputs": [],
   "source": [
    "df_latest_gw = df_latest_gw.merge(last_gw_player_proba, on = 'player', how = 'left')"
   ]
  },
  {
   "cell_type": "code",
   "execution_count": 24,
   "metadata": {},
   "outputs": [],
   "source": [
    "df_latest_gw.drop_duplicates(inplace = True)"
   ]
  },
  {
   "cell_type": "markdown",
   "metadata": {},
   "source": [
    "**creating training DF**"
   ]
  },
  {
   "cell_type": "code",
   "execution_count": 25,
   "metadata": {},
   "outputs": [],
   "source": [
    "df_train = pd.concat([all_season_df,df_latest_gw], ignore_index = True, axis = 0,sort = False)"
   ]
  },
  {
   "cell_type": "markdown",
   "metadata": {},
   "source": [
    "**Next GW**"
   ]
  },
  {
   "cell_type": "code",
   "execution_count": 26,
   "metadata": {},
   "outputs": [],
   "source": [
    "current_gw = last_gw + 1\n",
    "fixtures_after_current_gw = pd.read_csv(path/'fixtures.csv')\n",
    "fixtures_after_current_gw = fixtures_after_current_gw[fixtures_after_current_gw['gw']>= current_gw]"
   ]
  },
  {
   "cell_type": "markdown",
   "metadata": {},
   "source": [
    "**Merging with 'teams' DF to get team codes in 'gw_fixtures' and keeping relevant columns and renaming the columns**"
   ]
  },
  {
   "cell_type": "code",
   "execution_count": 27,
   "metadata": {},
   "outputs": [],
   "source": [
    "fixtures_after_current_gw = fixtures_after_current_gw.merge(teams, left_on = 'home_team', right_on = 'team', how ='left')\n",
    "fixtures_after_current_gw = fixtures_after_current_gw.merge(teams, left_on = 'away_team', right_on = 'team', how ='left')\n",
    "\n",
    "# keeping relevant columns and renaming the columns\n",
    "fixtures_after_current_gw = fixtures_after_current_gw[['gw', 'home_team', 'away_team','team_code_x', 'team_code_y']]\n",
    "fixtures_after_current_gw = fixtures_after_current_gw.rename(index = str,\n",
    "                                 columns = {'team_code_x':'home_team_code',\n",
    "                                            'team_code_y':'away_team_code'})"
   ]
  },
  {
   "cell_type": "markdown",
   "metadata": {},
   "source": [
    "**creating DF for home teams**"
   ]
  },
  {
   "cell_type": "code",
   "execution_count": 28,
   "metadata": {},
   "outputs": [],
   "source": [
    "#creating DF for home teams\n",
    "home_df = fixtures_after_current_gw.merge(all_players, left_on = 'home_team_code', right_on = 'team_1920',how = 'left')\n",
    "#keeping relevant columns\n",
    "home_df = home_df[['gw','home_team', 'away_team','full_name','position_1920', 'cost_1920', 'play_proba_1920']]\n",
    "#reanming columns\n",
    "home_df = home_df.rename(index = str,\n",
    "                        columns = {'home_team': 'team',\n",
    "                                  'away_team': 'opponent_team',\n",
    "                                  'full_name':'player',\n",
    "                                  'position_1920':'position',\n",
    "                                  'cost_1920':'price',\n",
    "                                  'play_proba_1920':'play_proba'})\n",
    "\n",
    "#setting the flag for 'was_home' to True\n",
    "home_df['was_home'] =  True"
   ]
  },
  {
   "cell_type": "markdown",
   "metadata": {},
   "source": [
    "**creating DF for away teams**"
   ]
  },
  {
   "cell_type": "code",
   "execution_count": 29,
   "metadata": {},
   "outputs": [],
   "source": [
    "#creating DF for home teams\n",
    "away_df = fixtures_after_current_gw.merge(all_players, left_on = 'away_team_code', right_on = 'team_1920',how = 'left')\n",
    "#keeping relevant columns\n",
    "away_df = away_df[['gw','home_team', 'away_team','full_name','position_1920', 'cost_1920', 'play_proba_1920']]\n",
    "#reanming columns\n",
    "away_df = away_df.rename(index = str,\n",
    "                        columns = {'away_team': 'team',\n",
    "                                   'home_team': 'opponent_team',\n",
    "                                   'full_name':'player',\n",
    "                                   'position_1920':'position',\n",
    "                                   'cost_1920':'price',\n",
    "                                   'play_proba_1920':'play_proba'})\n",
    "\n",
    "#setting the flag for 'was_home' to True\n",
    "away_df['was_home'] =  False"
   ]
  },
  {
   "cell_type": "markdown",
   "metadata": {},
   "source": [
    "**getting average minutes for the last 5 games**"
   ]
  },
  {
   "cell_type": "code",
   "execution_count": 30,
   "metadata": {},
   "outputs": [],
   "source": [
    "recent_mins = df_train[(df_train['season'] == '1920') & \n",
    "                       (df_train['gw'] >= current_gw - 5)][['player', 'minutes','play_proba']]\n",
    "\n",
    "#keep only players who were not ruled out due to injury, i.e, play_proba = 1\n",
    "recent_mins = recent_mins[recent_mins['play_proba'] == 1]\n",
    "\n",
    "#grouping by players and taking mean\n",
    "recent_mins_dict = recent_mins.groupby(['player'])['minutes'].mean().to_dict()"
   ]
  },
  {
   "cell_type": "markdown",
   "metadata": {},
   "source": [
    "**Concatenating home_df and away_df**"
   ]
  },
  {
   "cell_type": "code",
   "execution_count": 31,
   "metadata": {},
   "outputs": [],
   "source": [
    "\n",
    "# concatenate home and away players\n",
    "remaining_season_df_after_current_gw = pd.concat([home_df,away_df], ignore_index = True, sort = False, axis =0)\n",
    "\n",
    "# add season name\n",
    "remaining_season_df_after_current_gw['season'] = '1920'\n",
    "\n",
    "# divide cost by 10 for actual cost\n",
    "remaining_season_df_after_current_gw['price'] = remaining_season_df_after_current_gw['price']/10\n",
    "\n",
    "# set availability probability\n",
    "# 0 = 0% chance, 25 = 25% chance, etc\n",
    "# 'None' or '100' = 100% chance\n",
    "remaining_season_df_after_current_gw.loc[remaining_season_df_after_current_gw['play_proba'] == 'None', 'play_proba'] = 100\n",
    "remaining_season_df_after_current_gw['play_proba'] = remaining_season_df_after_current_gw['play_proba'].astype('float') / 100"
   ]
  },
  {
   "cell_type": "code",
   "execution_count": 32,
   "metadata": {},
   "outputs": [
    {
     "data": {
      "text/html": [
       "<div>\n",
       "<style scoped>\n",
       "    .dataframe tbody tr th:only-of-type {\n",
       "        vertical-align: middle;\n",
       "    }\n",
       "\n",
       "    .dataframe tbody tr th {\n",
       "        vertical-align: top;\n",
       "    }\n",
       "\n",
       "    .dataframe thead th {\n",
       "        text-align: right;\n",
       "    }\n",
       "</style>\n",
       "<table border=\"1\" class=\"dataframe\">\n",
       "  <thead>\n",
       "    <tr style=\"text-align: right;\">\n",
       "      <th></th>\n",
       "      <th>gw</th>\n",
       "      <th>team</th>\n",
       "      <th>opponent_team</th>\n",
       "      <th>player</th>\n",
       "      <th>position</th>\n",
       "      <th>price</th>\n",
       "      <th>play_proba</th>\n",
       "      <th>was_home</th>\n",
       "      <th>season</th>\n",
       "    </tr>\n",
       "  </thead>\n",
       "  <tbody>\n",
       "    <tr>\n",
       "      <th>0</th>\n",
       "      <td>31</td>\n",
       "      <td>Burnley</td>\n",
       "      <td>Watford</td>\n",
       "      <td>Matthew_Lowton</td>\n",
       "      <td>2.0</td>\n",
       "      <td>4.2</td>\n",
       "      <td>0.0</td>\n",
       "      <td>True</td>\n",
       "      <td>1920</td>\n",
       "    </tr>\n",
       "    <tr>\n",
       "      <th>1</th>\n",
       "      <td>31</td>\n",
       "      <td>Burnley</td>\n",
       "      <td>Watford</td>\n",
       "      <td>Ben_Mee</td>\n",
       "      <td>2.0</td>\n",
       "      <td>5.0</td>\n",
       "      <td>0.0</td>\n",
       "      <td>True</td>\n",
       "      <td>1920</td>\n",
       "    </tr>\n",
       "    <tr>\n",
       "      <th>2</th>\n",
       "      <td>31</td>\n",
       "      <td>Burnley</td>\n",
       "      <td>Watford</td>\n",
       "      <td>James_Tarkowski</td>\n",
       "      <td>2.0</td>\n",
       "      <td>5.2</td>\n",
       "      <td>1.0</td>\n",
       "      <td>True</td>\n",
       "      <td>1920</td>\n",
       "    </tr>\n",
       "    <tr>\n",
       "      <th>3</th>\n",
       "      <td>31</td>\n",
       "      <td>Burnley</td>\n",
       "      <td>Watford</td>\n",
       "      <td>Ashley_Barnes</td>\n",
       "      <td>4.0</td>\n",
       "      <td>6.1</td>\n",
       "      <td>0.0</td>\n",
       "      <td>True</td>\n",
       "      <td>1920</td>\n",
       "    </tr>\n",
       "    <tr>\n",
       "      <th>4</th>\n",
       "      <td>31</td>\n",
       "      <td>Burnley</td>\n",
       "      <td>Watford</td>\n",
       "      <td>Aaron_Lennon</td>\n",
       "      <td>3.0</td>\n",
       "      <td>4.6</td>\n",
       "      <td>0.0</td>\n",
       "      <td>True</td>\n",
       "      <td>1920</td>\n",
       "    </tr>\n",
       "    <tr>\n",
       "      <th>...</th>\n",
       "      <td>...</td>\n",
       "      <td>...</td>\n",
       "      <td>...</td>\n",
       "      <td>...</td>\n",
       "      <td>...</td>\n",
       "      <td>...</td>\n",
       "      <td>...</td>\n",
       "      <td>...</td>\n",
       "      <td>...</td>\n",
       "    </tr>\n",
       "    <tr>\n",
       "      <th>5235</th>\n",
       "      <td>38</td>\n",
       "      <td>Aston Villa</td>\n",
       "      <td>West Ham United</td>\n",
       "      <td>Marvelous_Nakamba</td>\n",
       "      <td>3.0</td>\n",
       "      <td>4.4</td>\n",
       "      <td>1.0</td>\n",
       "      <td>False</td>\n",
       "      <td>1920</td>\n",
       "    </tr>\n",
       "    <tr>\n",
       "      <th>5236</th>\n",
       "      <td>38</td>\n",
       "      <td>Aston Villa</td>\n",
       "      <td>West Ham United</td>\n",
       "      <td>Indiana_Vassilev</td>\n",
       "      <td>3.0</td>\n",
       "      <td>4.5</td>\n",
       "      <td>1.0</td>\n",
       "      <td>False</td>\n",
       "      <td>1920</td>\n",
       "    </tr>\n",
       "    <tr>\n",
       "      <th>5237</th>\n",
       "      <td>38</td>\n",
       "      <td>Aston Villa</td>\n",
       "      <td>West Ham United</td>\n",
       "      <td>José_Reina</td>\n",
       "      <td>1.0</td>\n",
       "      <td>4.2</td>\n",
       "      <td>1.0</td>\n",
       "      <td>False</td>\n",
       "      <td>1920</td>\n",
       "    </tr>\n",
       "    <tr>\n",
       "      <th>5238</th>\n",
       "      <td>38</td>\n",
       "      <td>Aston Villa</td>\n",
       "      <td>West Ham United</td>\n",
       "      <td>Mbwana_Samatta</td>\n",
       "      <td>4.0</td>\n",
       "      <td>5.2</td>\n",
       "      <td>1.0</td>\n",
       "      <td>False</td>\n",
       "      <td>1920</td>\n",
       "    </tr>\n",
       "    <tr>\n",
       "      <th>5239</th>\n",
       "      <td>38</td>\n",
       "      <td>Aston Villa</td>\n",
       "      <td>West Ham United</td>\n",
       "      <td>Borja_González Tomás</td>\n",
       "      <td>4.0</td>\n",
       "      <td>5.3</td>\n",
       "      <td>0.0</td>\n",
       "      <td>False</td>\n",
       "      <td>1920</td>\n",
       "    </tr>\n",
       "  </tbody>\n",
       "</table>\n",
       "<p>5240 rows × 9 columns</p>\n",
       "</div>"
      ],
      "text/plain": [
       "      gw         team    opponent_team                player  position  price  \\\n",
       "0     31      Burnley          Watford        Matthew_Lowton       2.0    4.2   \n",
       "1     31      Burnley          Watford               Ben_Mee       2.0    5.0   \n",
       "2     31      Burnley          Watford       James_Tarkowski       2.0    5.2   \n",
       "3     31      Burnley          Watford         Ashley_Barnes       4.0    6.1   \n",
       "4     31      Burnley          Watford          Aaron_Lennon       3.0    4.6   \n",
       "...   ..          ...              ...                   ...       ...    ...   \n",
       "5235  38  Aston Villa  West Ham United     Marvelous_Nakamba       3.0    4.4   \n",
       "5236  38  Aston Villa  West Ham United      Indiana_Vassilev       3.0    4.5   \n",
       "5237  38  Aston Villa  West Ham United            José_Reina       1.0    4.2   \n",
       "5238  38  Aston Villa  West Ham United        Mbwana_Samatta       4.0    5.2   \n",
       "5239  38  Aston Villa  West Ham United  Borja_González Tomás       4.0    5.3   \n",
       "\n",
       "      play_proba  was_home season  \n",
       "0            0.0      True   1920  \n",
       "1            0.0      True   1920  \n",
       "2            1.0      True   1920  \n",
       "3            0.0      True   1920  \n",
       "4            0.0      True   1920  \n",
       "...          ...       ...    ...  \n",
       "5235         1.0     False   1920  \n",
       "5236         1.0     False   1920  \n",
       "5237         1.0     False   1920  \n",
       "5238         1.0     False   1920  \n",
       "5239         0.0     False   1920  \n",
       "\n",
       "[5240 rows x 9 columns]"
      ]
     },
     "execution_count": 32,
     "metadata": {},
     "output_type": "execute_result"
    }
   ],
   "source": [
    "remaining_season_df_after_current_gw"
   ]
  },
  {
   "cell_type": "code",
   "execution_count": null,
   "metadata": {},
   "outputs": [],
   "source": []
  }
 ],
 "metadata": {
  "kernelspec": {
   "display_name": "Python 3",
   "language": "python",
   "name": "python3"
  },
  "language_info": {
   "codemirror_mode": {
    "name": "ipython",
    "version": 3
   },
   "file_extension": ".py",
   "mimetype": "text/x-python",
   "name": "python",
   "nbconvert_exporter": "python",
   "pygments_lexer": "ipython3",
   "version": "3.8.3"
  }
 },
 "nbformat": 4,
 "nbformat_minor": 2
}
