{
 "cells": [
  {
   "cell_type": "code",
   "execution_count": 2,
   "metadata": {},
   "outputs": [],
   "source": [
    "import pandas as pd"
   ]
  },
  {
   "cell_type": "code",
   "execution_count": 3,
   "metadata": {},
   "outputs": [],
   "source": [
    "%run helper_functions.ipynb\n",
    "%run creating_Dataframes.ipynb"
   ]
  },
  {
   "cell_type": "markdown",
   "metadata": {},
   "source": [
    "**Reading the fixtures**"
   ]
  },
  {
   "cell_type": "code",
   "execution_count": 4,
   "metadata": {},
   "outputs": [],
   "source": [
    "current_gw = 29\n",
    "gw_fixtures = pd.read_csv(path/'fixtures.csv')\n",
    "gw_fixtures = gw_fixtures[gw_fixtures['gw']>= current_gw]"
   ]
  },
  {
   "cell_type": "markdown",
   "metadata": {},
   "source": [
    "**Merging with 'teams' DF to get team codes in 'gw_fixtures' and keeping relevant columns and renaming the columns**"
   ]
  },
  {
   "cell_type": "code",
   "execution_count": 5,
   "metadata": {},
   "outputs": [],
   "source": [
    "# merging with teams DF to get team codes in fixtures\n",
    "gw_fixtures = gw_fixtures.merge(teams, left_on = 'home_team', right_on = 'team', how ='left')\n",
    "gw_fixtures = gw_fixtures.merge(teams, left_on = 'away_team', right_on = 'team', how ='left')\n",
    "\n",
    "# keeping relevant columns and renaming the columns\n",
    "gw_fixtures = gw_fixtures[['gw', 'home_team', 'away_team','team_code_x', 'team_code_y']]\n",
    "gw_fixtures = gw_fixtures.rename(index = str,\n",
    "                                 columns = {'team_code_x':'home_team_code',\n",
    "                                            'team_code_y':'away_team_code'})"
   ]
  },
  {
   "cell_type": "code",
   "execution_count": 6,
   "metadata": {},
   "outputs": [
    {
     "data": {
      "text/html": [
       "<div>\n",
       "<style scoped>\n",
       "    .dataframe tbody tr th:only-of-type {\n",
       "        vertical-align: middle;\n",
       "    }\n",
       "\n",
       "    .dataframe tbody tr th {\n",
       "        vertical-align: top;\n",
       "    }\n",
       "\n",
       "    .dataframe thead th {\n",
       "        text-align: right;\n",
       "    }\n",
       "</style>\n",
       "<table border=\"1\" class=\"dataframe\">\n",
       "  <thead>\n",
       "    <tr style=\"text-align: right;\">\n",
       "      <th></th>\n",
       "      <th>gw</th>\n",
       "      <th>home_team</th>\n",
       "      <th>away_team</th>\n",
       "      <th>home_team_code</th>\n",
       "      <th>away_team_code</th>\n",
       "    </tr>\n",
       "  </thead>\n",
       "  <tbody>\n",
       "    <tr>\n",
       "      <th>0</th>\n",
       "      <td>30</td>\n",
       "      <td>Aston Villa</td>\n",
       "      <td>Sheffield United</td>\n",
       "      <td>7</td>\n",
       "      <td>49</td>\n",
       "    </tr>\n",
       "    <tr>\n",
       "      <th>1</th>\n",
       "      <td>30</td>\n",
       "      <td>Manchester City</td>\n",
       "      <td>Arsenal</td>\n",
       "      <td>43</td>\n",
       "      <td>3</td>\n",
       "    </tr>\n",
       "    <tr>\n",
       "      <th>2</th>\n",
       "      <td>29</td>\n",
       "      <td>Arsenal</td>\n",
       "      <td>West Ham United</td>\n",
       "      <td>3</td>\n",
       "      <td>21</td>\n",
       "    </tr>\n",
       "    <tr>\n",
       "      <th>3</th>\n",
       "      <td>29</td>\n",
       "      <td>Burnley</td>\n",
       "      <td>Tottenham Hotspur</td>\n",
       "      <td>90</td>\n",
       "      <td>6</td>\n",
       "    </tr>\n",
       "    <tr>\n",
       "      <th>4</th>\n",
       "      <td>29</td>\n",
       "      <td>Chelsea</td>\n",
       "      <td>Everton</td>\n",
       "      <td>8</td>\n",
       "      <td>11</td>\n",
       "    </tr>\n",
       "  </tbody>\n",
       "</table>\n",
       "</div>"
      ],
      "text/plain": [
       "   gw        home_team          away_team  home_team_code  away_team_code\n",
       "0  30      Aston Villa   Sheffield United               7              49\n",
       "1  30  Manchester City            Arsenal              43               3\n",
       "2  29          Arsenal    West Ham United               3              21\n",
       "3  29          Burnley  Tottenham Hotspur              90               6\n",
       "4  29          Chelsea            Everton               8              11"
      ]
     },
     "execution_count": 6,
     "metadata": {},
     "output_type": "execute_result"
    }
   ],
   "source": [
    "gw_fixtures.head()"
   ]
  },
  {
   "cell_type": "markdown",
   "metadata": {},
   "source": [
    "**creating DF for home teams**"
   ]
  },
  {
   "cell_type": "code",
   "execution_count": 7,
   "metadata": {},
   "outputs": [],
   "source": [
    "#creating DF for home teams\n",
    "home_df = gw_fixtures.merge(all_players, left_on = 'home_team_code', right_on = 'team_1920',how = 'left')\n",
    "#keeping relevant columns\n",
    "home_df = home_df[['gw','home_team', 'away_team','full_name','position_1920', 'cost_1920', 'play_proba_1920']]\n",
    "#reanming columns\n",
    "home_df = home_df.rename(index = str,\n",
    "                        columns = {'home_team': 'team',\n",
    "                                  'away_team': 'opponent_team',\n",
    "                                  'full_name':'player',\n",
    "                                  'position_1920':'position',\n",
    "                                  'cost_1920':'price',\n",
    "                                  'play_proba_1920':'play_proba'})\n",
    "\n",
    "#setting the flag for 'was_home' to True\n",
    "home_df['was_home'] =  True"
   ]
  },
  {
   "cell_type": "markdown",
   "metadata": {},
   "source": [
    "**creating DF for away teams**"
   ]
  },
  {
   "cell_type": "code",
   "execution_count": 8,
   "metadata": {},
   "outputs": [],
   "source": [
    "#creating DF for home teams\n",
    "away_df = gw_fixtures.merge(all_players, left_on = 'away_team_code', right_on = 'team_1920',how = 'left',sort = False)\n",
    "#keeping relevant columns\n",
    "away_df = away_df[['gw','home_team', 'away_team','full_name','position_1920', 'cost_1920', 'play_proba_1920']]\n",
    "#reanming columns\n",
    "away_df = away_df.rename(index = str,\n",
    "                        columns = {'away_team': 'team',\n",
    "                                   'home_team': 'opponent_team',\n",
    "                                   'full_name':'player',\n",
    "                                   'position_1920':'position',\n",
    "                                   'cost_1920':'price',\n",
    "                                   'play_proba_1920':'play_proba'})\n",
    "\n",
    "#setting the flag for 'was_home' to True\n",
    "away_df['was_home'] =  False"
   ]
  },
  {
   "cell_type": "markdown",
   "metadata": {},
   "source": [
    "**Getting DF for remaining season**"
   ]
  },
  {
   "cell_type": "code",
   "execution_count": 9,
   "metadata": {},
   "outputs": [],
   "source": [
    "remaining_season_df = home_df.append(away_df).reset_index(drop = True) #check this, might cause a bug\n",
    "remaining_season_df['season'] = '1920'\n",
    "\n",
    "#dividing 'price' by 10 to get real price\n",
    "remaining_season_df['price'] = remaining_season_df['price']/10\n",
    "\n",
    "#set availibilty chance to \n",
    "# 0 for 0%, 25 for 25%, 50 for 50%, 75 for 75%, 100 for 100%\n",
    "remaining_season_df.loc[remaining_season_df['play_proba'] == 'None', 'play_proba'] = 100\n",
    "remaining_season_df['play_proba'] = remaining_season_df['play_proba'].astype(float)/100\n",
    "\n",
    "#multiplying 'play_proba' with 90 to get expected minutes\n",
    "remaining_season_df['minutes'] = 90 * remaining_season_df['play_proba']\n",
    "\n",
    "#setting 'position' column to int type\n",
    "remaining_season_df['position'] = remaining_season_df['position'].astype(int)\n",
    "\n"
   ]
  },
  {
   "cell_type": "markdown",
   "metadata": {},
   "source": [
    "**Combining the xG dataset with the reamining season data**"
   ]
  },
  {
   "cell_type": "code",
   "execution_count": 11,
   "metadata": {},
   "outputs": [],
   "source": [
    "xg_dataset = pd.read_csv(r'C:\\Users\\Asus\\PycharmProjects\\FPL Project\\my_data\\all_season_xg_data.csv', index_col=0)"
   ]
  },
  {
   "cell_type": "markdown",
   "metadata": {},
   "source": [
    "**Converting 'season' column to string from int**"
   ]
  },
  {
   "cell_type": "code",
   "execution_count": 17,
   "metadata": {},
   "outputs": [],
   "source": [
    "xg_dataset['season'] = xg_dataset['season'].astype(str)"
   ]
  },
  {
   "cell_type": "markdown",
   "metadata": {},
   "source": [
    "**Concetanating the xG dataset with the reamining season dataset**"
   ]
  },
  {
   "cell_type": "code",
   "execution_count": 19,
   "metadata": {},
   "outputs": [],
   "source": [
    "remaining_season_df = remaining_season_df.merge(xg_dataset, on = ['team','season'], how = 'left')"
   ]
  },
  {
   "cell_type": "markdown",
   "metadata": {},
   "source": [
    "**Saving as csv**"
   ]
  },
  {
   "cell_type": "code",
   "execution_count": 30,
   "metadata": {
    "scrolled": true
   },
   "outputs": [],
   "source": [
    "remaining_season_df.to_csv(r'C:\\Users\\Asus\\PycharmProjects\\FPL Project\\my_data\\remaining_season.csv')\n",
    "# remaining_season_df.to_excel(r'C:\\Users\\Asus\\PycharmProjects\\FPL Project\\my_data\\remaining_season.xlsx')"
   ]
  }
 ],
 "metadata": {
  "kernelspec": {
   "display_name": "Python 3",
   "language": "python",
   "name": "python3"
  },
  "language_info": {
   "codemirror_mode": {
    "name": "ipython",
    "version": 3
   },
   "file_extension": ".py",
   "mimetype": "text/x-python",
   "name": "python",
   "nbconvert_exporter": "python",
   "pygments_lexer": "ipython3",
   "version": "3.8.3"
  }
 },
 "nbformat": 4,
 "nbformat_minor": 2
}
