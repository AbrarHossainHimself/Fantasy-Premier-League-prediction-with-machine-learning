{
 "cells": [
  {
   "cell_type": "code",
   "execution_count": 9,
   "metadata": {},
   "outputs": [],
   "source": [
    "import pandas as pd"
   ]
  },
  {
   "cell_type": "code",
   "execution_count": 10,
   "metadata": {},
   "outputs": [],
   "source": [
    "%run helper_functions.ipynb\n",
    "%run creating_Dataframes.ipynb"
   ]
  },
  {
   "cell_type": "markdown",
   "metadata": {},
   "source": [
    "**Reading the fixtures**"
   ]
  },
  {
   "cell_type": "code",
   "execution_count": 11,
   "metadata": {},
   "outputs": [],
   "source": [
    "current_gw = 29\n",
    "gw_fixtures = pd.read_csv(path/'fixtures.csv')\n",
    "gw_fixtures = gw_fixtures[gw_fixtures['gw']>= current_gw]"
   ]
  },
  {
   "cell_type": "markdown",
   "metadata": {},
   "source": [
    "**Merging with 'teams' DF to get team codes in 'gw_fixtures' and keeping relevant columns and renaming the columns**"
   ]
  },
  {
   "cell_type": "code",
   "execution_count": 12,
   "metadata": {},
   "outputs": [],
   "source": [
    "# merging with teams DF to get team codes in fixtures\n",
    "gw_fixtures = gw_fixtures.merge(teams, left_on = 'home_team', right_on = 'team', how ='left')\n",
    "gw_fixtures = gw_fixtures.merge(teams, left_on = 'away_team', right_on = 'team', how ='left')\n",
    "\n",
    "# keeping relevant columns and renaming the columns\n",
    "gw_fixtures = gw_fixtures[['gw', 'home_team', 'away_team','team_code_x', 'team_code_y']]\n",
    "gw_fixtures = gw_fixtures.rename(index = str,\n",
    "                                 columns = {'team_code_x':'home_team_code',\n",
    "                                            'team_code_y':'away_team_code'})"
   ]
  },
  {
   "cell_type": "markdown",
   "metadata": {},
   "source": [
    "**creating DF for home teams**"
   ]
  },
  {
   "cell_type": "code",
   "execution_count": 13,
   "metadata": {},
   "outputs": [],
   "source": [
    "#creating DF for home teams\n",
    "home_df = gw_fixtures.merge(all_players, left_on = 'home_team_code', right_on = 'team_1920',how = 'left')\n",
    "#keeping relevant columns\n",
    "home_df = home_df[['gw','home_team', 'away_team','full_name','position_1920', 'cost_1920', 'play_proba_1920']]\n",
    "#reanming columns\n",
    "home_df = home_df.rename(index = str,\n",
    "                        columns = {'home_team': 'team',\n",
    "                                  'away_team': 'opponent_team',\n",
    "                                  'full_name':'player',\n",
    "                                  'position_1920':'position',\n",
    "                                  'cost_1920':'price',\n",
    "                                  'play_proba_1920':'play_proba'})\n",
    "\n",
    "#setting the flag for 'was_home' to True\n",
    "home_df['was_home'] =  True"
   ]
  },
  {
   "cell_type": "markdown",
   "metadata": {},
   "source": [
    "**creating DF for away teams**"
   ]
  },
  {
   "cell_type": "code",
   "execution_count": 14,
   "metadata": {},
   "outputs": [],
   "source": [
    "#creating DF for home teams\n",
    "away_df = gw_fixtures.merge(all_players, left_on = 'away_team_code', right_on = 'team_1920',how = 'left')\n",
    "#keeping relevant columns\n",
    "away_df = away_df[['gw','home_team', 'away_team','full_name','position_1920', 'cost_1920', 'play_proba_1920']]\n",
    "#reanming columns\n",
    "away_df = away_df.rename(index = str,\n",
    "                        columns = {'away_team': 'team',\n",
    "                                   'home_team': 'opponent_team',\n",
    "                                   'full_name':'player',\n",
    "                                   'position_1920':'position',\n",
    "                                   'cost_1920':'price',\n",
    "                                   'play_proba_1920':'play_proba'})\n",
    "\n",
    "#setting the flag for 'was_home' to True\n",
    "away_df['was_home'] =  False"
   ]
  },
  {
   "cell_type": "markdown",
   "metadata": {},
   "source": [
    "**getting DF for remaining season**"
   ]
  },
  {
   "cell_type": "code",
   "execution_count": 15,
   "metadata": {},
   "outputs": [],
   "source": [
    "remaining_season_df_ = home_df.append(away_df).reset_index(drop = True)\n",
    "remaining_season_df['season'] = '1920'\n",
    "\n",
    "#dividing 'price' by 10 to get real price\n",
    "remaining_season_df['price'] = remaining_season_df['price']/10\n",
    "\n",
    "#set availibilty chance to \n",
    "# 0 for 0%, 25 for 25%, 50 for 50%, 75 for 75%, 100 for 100%\n",
    "remaining_season_df.loc[remaining_season_df['play_proba'] == 'None', 'play_proba'] = 100\n",
    "remaining_season_df['play_proba'] = remaining_season_df['play_proba'].astype(float)/100\n",
    "\n",
    "#multiplying 'play_proba' with 90 to get expected minutes\n",
    "remaining_season_df['minutes'] = 90 * remaining_season_df['play_proba']\n",
    "\n",
    "#setting 'position' column to int type\n",
    "remaining_season_df['position'] = remaining_season_df['position'].astype(int)\n",
    "\n"
   ]
  },
  {
   "cell_type": "code",
   "execution_count": 16,
   "metadata": {},
   "outputs": [],
   "source": [
    "remaining_season_df.to_csv(path/'remaining_season.csv')"
   ]
  }
 ],
 "metadata": {
  "kernelspec": {
   "display_name": "Python 3",
   "language": "python",
   "name": "python3"
  },
  "language_info": {
   "codemirror_mode": {
    "name": "ipython",
    "version": 3
   },
   "file_extension": ".py",
   "mimetype": "text/x-python",
   "name": "python",
   "nbconvert_exporter": "python",
   "pygments_lexer": "ipython3",
   "version": "3.7.4"
  }
 },
 "nbformat": 4,
 "nbformat_minor": 2
}
