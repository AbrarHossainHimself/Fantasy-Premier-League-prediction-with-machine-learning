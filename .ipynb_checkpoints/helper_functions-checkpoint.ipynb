{
 "cells": [
  {
   "cell_type": "markdown",
   "metadata": {},
   "source": [
    "**Importing libraries**"
   ]
  },
  {
   "cell_type": "code",
   "execution_count": 1,
   "metadata": {
    "colab": {},
    "colab_type": "code",
    "id": "dAjadfi0PxM9"
   },
   "outputs": [],
   "source": [
    "from pathlib import Path\n",
    "import pandas as pd\n",
    "import numpy as np"
   ]
  },
  {
   "cell_type": "markdown",
   "metadata": {
    "colab_type": "text",
    "id": "NM6BtrzXQGhG"
   },
   "source": [
    "**Function to build player dataframe from one season**"
   ]
  },
  {
   "cell_type": "code",
   "execution_count": 2,
   "metadata": {
    "colab": {},
    "colab_type": "code",
    "id": "nix8b9_hP-nd"
   },
   "outputs": [],
   "source": [
    "def build_players(path, season_paths, season_names, teams):\n",
    "    \n",
    "    # read in player information for each season and add to list\n",
    "    season_players = []\n",
    "    \n",
    "    for season_path in season_paths:\n",
    "        player = pd.read_csv(season_path/'players_raw.csv',\n",
    "                            usecols =  ['id','first_name','second_name',\n",
    "                                        'element_type','team_code',\n",
    "                                        'bps','chance_of_playing_next_round',\n",
    "                                        'now_cost','selected_by_percent',\n",
    "                                        'transfers_in','transfers_in_event',\n",
    "                                        'transfers_out','transfers_out_event'\n",
    "                                       ])\n",
    "        season_players.append(player)\n",
    "                   \n",
    "    # getting full name from first and last name \n",
    "    for player in season_players:\n",
    "        player['full_name'] = player['first_name'] + '_' + player['second_name']\n",
    "        player.drop(['first_name', 'second_name'], axis = 1, inplace = True)\n",
    "        \n",
    "    #concatenating all players from the 4 seasons into a single DF\n",
    "    all_players = pd.concat(season_players, axis = 0, ignore_index = True, sort =False)\n",
    "         \n",
    "    #creating a series of unique names only\n",
    "    all_players = pd.DataFrame(all_players['full_name'].drop_duplicates())\n",
    "\n",
    "                               \n",
    "#     storing all the values for all players from across all season\n",
    "#   in a DF by matching with the previously stored series of unique names\n",
    "                               \n",
    "    for player, season in zip(season_players, season_names):\n",
    "        all_players = all_players.merge(player, on = \"full_name\", how = 'left')\n",
    "        all_players.rename(index=str,\n",
    "                                         columns= {'id': 'id_' + season,\n",
    "                                                 'element_type': 'position_' + season,\n",
    "                                                 'team_code': 'team_' + season,\n",
    "                                                 'bps': 'bps_' + season,\n",
    "                                                 'chance_of_playing_next_round': 'play_proba_' + season,\n",
    "                                                 'now_cost': 'cost_' + season,\n",
    "                                                 'selected_by_percent': 'selected_by_percent_' + season,\n",
    "                                                 'transfers_in': 'transfers_in_' + season,\n",
    "                                                 'transfers_in_event': 'transfers_in_event_' + season,\n",
    "                                                 'transfers_out': 'transfers_out_' + season,\n",
    "                                                 'transfers_out_event': 'transfers_out_event_' + season\n",
    "                                                   },inplace = True)\n",
    "                                  \n",
    "    return all_players     "
   ]
  },
  {
   "cell_type": "markdown",
   "metadata": {
    "colab_type": "text",
    "id": "WcaPw83pQUdx"
   },
   "source": [
    "**Function to build season dataframe for one season**"
   ]
  },
  {
   "cell_type": "code",
   "execution_count": 3,
   "metadata": {
    "colab": {},
    "colab_type": "code",
    "id": "gQnVDqBqQD16"
   },
   "outputs": [],
   "source": [
    "def build_season(season_path,season_name, teams, all_players, gw = range(1,39)):\n",
    "    gws_list = [] #list containing all GW data\n",
    "    \n",
    "    id_season = 'id_' + season_name\n",
    "    id_team = 'team_' + season_name\n",
    "    id_position = 'position_' + season_name\n",
    "    \n",
    "    for i in gw:\n",
    "        gw_path = 'gws/gw' + str(i) + '.csv'\n",
    "        gw_df = pd.read_csv(season_path/gw_path, encoding= 'latin')\n",
    "        gw_df['gw']= str(i)\n",
    "        gws_list.append(gw_df)\n",
    "    \n",
    "    #concatenating entire season\n",
    "    df_season = pd.concat(gws_list, axis = 0,sort = False) #####sort parameter was added later; look for errors\n",
    "    \n",
    "    df_season = df_season.merge(all_players, left_on = 'element', right_on = id_season, how = 'left')\n",
    "    df_season = df_season.merge(teams, left_on = 'opponent_team', right_on = id_team, how = 'left')\n",
    "    df_season = df_season.merge(teams, left_on = id_team + '_x'  , right_on = 'team_code', how = 'left')  \n",
    "    df_season = df_season[['full_name', 'gw', \n",
    "                           'minutes', 'team_y', id_position,\n",
    "                           'team_x', 'was_home', 'total_points',\n",
    "                           'assists', 'bonus', 'bps', 'clean_sheets', 'creativity', \n",
    "                           'goals_conceded', 'goals_scored', 'ict_index', 'influence', \n",
    "                           'own_goals', 'penalties_missed', 'penalties_saved', 'red_cards', \n",
    "                           'saves', 'selected', 'team_a_score', 'team_h_score', 'threat', \n",
    "                           'transfers_balance', 'transfers_in', 'transfers_out', \n",
    "                           'yellow_cards', 'kickoff_time']]\n",
    "    df_season.columns = ['player', 'gw', \n",
    "                         'minutes', 'team',   'position',\n",
    "                         'opponent_team', 'was_home', 'total_points',\n",
    "                         'assists', 'bonus', 'bps', 'clean_sheets', 'creativity', \n",
    "                         'goals_conceded', 'goals_scored', 'ict_index', 'influence', \n",
    "                         'own_goals', 'penalties_missed', 'penalties_saved', 'red_cards', \n",
    "                         'saves', 'selected', 'team_a_score', 'team_h_score', 'threat', \n",
    "                         'transfers_balance', 'transfers_in', 'transfers_out', \n",
    "                         'yellow_cards', 'kickoff_time']\n",
    "    df_season['season'] = season_name\n",
    "    df_season['gw'] = df_season['gw'].astype(int)\n",
    "    df_season['position'] = df_season['position'].astype(int)\n",
    "    \n",
    "    return df_season "
   ]
  },
  {
   "cell_type": "markdown",
   "metadata": {
    "colab_type": "text",
    "id": "ED75h6IdQ5vi"
   },
   "source": [
    "**Function to label positions for each player**"
   ]
  },
  {
   "cell_type": "code",
   "execution_count": 4,
   "metadata": {
    "colab": {},
    "colab_type": "code",
    "id": "8gwLZlIwQoAC"
   },
   "outputs": [],
   "source": [
    "def label_player_positions(df):\n",
    "    conditions = [df['position']==1,\n",
    "                df['position']==2,\n",
    "                df['position']==3,\n",
    "                df['position']==4]\n",
    "    outputs = ['GK','DEF','MID','FWD']\n",
    "    res = np.select(conditions, outputs)\n",
    "    s = pd.Series(res)\n",
    "    df.insert(5, 'position_name',s, True)\n",
    "    \n",
    "    return df"
   ]
  },
  {
   "cell_type": "markdown",
   "metadata": {},
   "source": [
    "**Function to label positions for each player**"
   ]
  },
  {
   "cell_type": "code",
   "execution_count": 5,
   "metadata": {},
   "outputs": [],
   "source": [
    "def xg_data_cleanup(df,season):\n",
    "    df = df.loc[:,['team','xG','xGA', 'npxG','npxGA']]\n",
    "    \n",
    "    team_names = {'Tottenham': 'Tottenham Hotspur',\n",
    "                  'Leicester': 'Leicester City',\n",
    "                  'West Ham': 'West Ham United',\n",
    "                  'Stoke': 'Stoke City',\n",
    "                  'Swansea': 'Swansea City',\n",
    "                  'Hull': 'Hull City',\n",
    "                  'Huddersfield': 'Huddersfield Town',\n",
    "                  'Brighton': 'Brighton and Hove Albion',\n",
    "                  'Cardiff': 'Cardiff City'}\n",
    "    df['team'] = df.replace(team_names)\n",
    "    df['season'] = str(season)\n",
    "#     df['season'] = df['season'].astype(str)\n",
    "    df.reset_index(drop= True)\n",
    "    \n",
    "    \n",
    "    return df"
   ]
  },
  {
   "cell_type": "code",
   "execution_count": null,
   "metadata": {},
   "outputs": [],
   "source": []
  }
 ],
 "metadata": {
  "colab": {
   "name": "Optimal_FPL_prediction_project.ipynb",
   "provenance": []
  },
  "kernelspec": {
   "display_name": "Python 3",
   "language": "python",
   "name": "python3"
  },
  "language_info": {
   "codemirror_mode": {
    "name": "ipython",
    "version": 3
   },
   "file_extension": ".py",
   "mimetype": "text/x-python",
   "name": "python",
   "nbconvert_exporter": "python",
   "pygments_lexer": "ipython3",
   "version": "3.7.4"
  }
 },
 "nbformat": 4,
 "nbformat_minor": 1
}
