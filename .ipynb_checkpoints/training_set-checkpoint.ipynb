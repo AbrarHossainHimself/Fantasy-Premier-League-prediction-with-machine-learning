{
 "cells": [
  {
   "cell_type": "code",
   "execution_count": 21,
   "metadata": {},
   "outputs": [],
   "source": [
    "import pandas as pd"
   ]
  },
  {
   "cell_type": "code",
   "execution_count": 22,
   "metadata": {},
   "outputs": [],
   "source": [
    "%run helper_functions.ipynb\n",
    "%run creating_Dataframes.ipynb"
   ]
  },
  {
   "cell_type": "code",
   "execution_count": 23,
   "metadata": {},
   "outputs": [],
   "source": [
    "# 'team' is from end of season but some players moved club mid-season\n",
    "# so have incorrect 'team' for some rows\n",
    "# get list of actual fixtures - games where there were at least 10 players\n",
    "\n",
    "fixtures = all_season_df.groupby(['team', 'opponent_team', 'kickoff_time', 'season']).count()['player'][all_season_df.groupby(['team', 'opponent_team', 'kickoff_time', 'season']).count()['player'] > 10]\n",
    "fixtures = fixtures.reset_index()\n",
    "fixtures = fixtures[['team', 'opponent_team', 'kickoff_time', 'season']]"
   ]
  },
  {
   "cell_type": "code",
   "execution_count": 24,
   "metadata": {},
   "outputs": [
    {
     "data": {
      "text/html": [
       "<div>\n",
       "<style scoped>\n",
       "    .dataframe tbody tr th:only-of-type {\n",
       "        vertical-align: middle;\n",
       "    }\n",
       "\n",
       "    .dataframe tbody tr th {\n",
       "        vertical-align: top;\n",
       "    }\n",
       "\n",
       "    .dataframe thead th {\n",
       "        text-align: right;\n",
       "    }\n",
       "</style>\n",
       "<table border=\"1\" class=\"dataframe\">\n",
       "  <thead>\n",
       "    <tr style=\"text-align: right;\">\n",
       "      <th></th>\n",
       "      <th>team</th>\n",
       "      <th>opponent_team</th>\n",
       "      <th>kickoff_time</th>\n",
       "      <th>season</th>\n",
       "    </tr>\n",
       "  </thead>\n",
       "  <tbody>\n",
       "    <tr>\n",
       "      <td>0</td>\n",
       "      <td>Arsenal</td>\n",
       "      <td>Aston Villa</td>\n",
       "      <td>2019-09-22T15:30:00Z</td>\n",
       "      <td>1920</td>\n",
       "    </tr>\n",
       "    <tr>\n",
       "      <td>1</td>\n",
       "      <td>Arsenal</td>\n",
       "      <td>Bournemouth</td>\n",
       "      <td>2016-11-27T14:15:00Z</td>\n",
       "      <td>1617</td>\n",
       "    </tr>\n",
       "    <tr>\n",
       "      <td>2</td>\n",
       "      <td>Arsenal</td>\n",
       "      <td>Bournemouth</td>\n",
       "      <td>2017-01-03T19:45:00Z</td>\n",
       "      <td>1617</td>\n",
       "    </tr>\n",
       "    <tr>\n",
       "      <td>3</td>\n",
       "      <td>Arsenal</td>\n",
       "      <td>Bournemouth</td>\n",
       "      <td>2017-09-09T14:00:00Z</td>\n",
       "      <td>1718</td>\n",
       "    </tr>\n",
       "    <tr>\n",
       "      <td>4</td>\n",
       "      <td>Arsenal</td>\n",
       "      <td>Bournemouth</td>\n",
       "      <td>2018-01-14T13:30:00Z</td>\n",
       "      <td>1718</td>\n",
       "    </tr>\n",
       "    <tr>\n",
       "      <td>...</td>\n",
       "      <td>...</td>\n",
       "      <td>...</td>\n",
       "      <td>...</td>\n",
       "      <td>...</td>\n",
       "    </tr>\n",
       "    <tr>\n",
       "      <td>2853</td>\n",
       "      <td>Wolverhampton Wanderers</td>\n",
       "      <td>Watford</td>\n",
       "      <td>2019-09-28T14:00:00Z</td>\n",
       "      <td>1920</td>\n",
       "    </tr>\n",
       "    <tr>\n",
       "      <td>2854</td>\n",
       "      <td>Wolverhampton Wanderers</td>\n",
       "      <td>Watford</td>\n",
       "      <td>2020-01-01T15:00:00Z</td>\n",
       "      <td>1920</td>\n",
       "    </tr>\n",
       "    <tr>\n",
       "      <td>2855</td>\n",
       "      <td>Wolverhampton Wanderers</td>\n",
       "      <td>West Ham United</td>\n",
       "      <td>2018-09-01T14:00:00Z</td>\n",
       "      <td>1819</td>\n",
       "    </tr>\n",
       "    <tr>\n",
       "      <td>2856</td>\n",
       "      <td>Wolverhampton Wanderers</td>\n",
       "      <td>West Ham United</td>\n",
       "      <td>2019-01-29T19:45:00Z</td>\n",
       "      <td>1819</td>\n",
       "    </tr>\n",
       "    <tr>\n",
       "      <td>2857</td>\n",
       "      <td>Wolverhampton Wanderers</td>\n",
       "      <td>West Ham United</td>\n",
       "      <td>2019-12-04T19:30:00Z</td>\n",
       "      <td>1920</td>\n",
       "    </tr>\n",
       "  </tbody>\n",
       "</table>\n",
       "<p>2858 rows × 4 columns</p>\n",
       "</div>"
      ],
      "text/plain": [
       "                         team    opponent_team          kickoff_time season\n",
       "0                     Arsenal      Aston Villa  2019-09-22T15:30:00Z   1920\n",
       "1                     Arsenal      Bournemouth  2016-11-27T14:15:00Z   1617\n",
       "2                     Arsenal      Bournemouth  2017-01-03T19:45:00Z   1617\n",
       "3                     Arsenal      Bournemouth  2017-09-09T14:00:00Z   1718\n",
       "4                     Arsenal      Bournemouth  2018-01-14T13:30:00Z   1718\n",
       "...                       ...              ...                   ...    ...\n",
       "2853  Wolverhampton Wanderers          Watford  2019-09-28T14:00:00Z   1920\n",
       "2854  Wolverhampton Wanderers          Watford  2020-01-01T15:00:00Z   1920\n",
       "2855  Wolverhampton Wanderers  West Ham United  2018-09-01T14:00:00Z   1819\n",
       "2856  Wolverhampton Wanderers  West Ham United  2019-01-29T19:45:00Z   1819\n",
       "2857  Wolverhampton Wanderers  West Ham United  2019-12-04T19:30:00Z   1920\n",
       "\n",
       "[2858 rows x 4 columns]"
      ]
     },
     "execution_count": 24,
     "metadata": {},
     "output_type": "execute_result"
    }
   ],
   "source": [
    "fixtures"
   ]
  },
  {
   "cell_type": "markdown",
   "metadata": {},
   "source": [
    "**Merging 'fixtures' with 'all_season_df'**\n",
    "\n",
    "\n",
    "\n",
    "\n",
    "Merging on the columns 'opponent_team', 'kickoff_time', 'season' as they are unique value for each team. Also, replacing the the 'team' coumn in the 'all_season_df' with the 'team' column from 'fixtures'\n"
   ]
  },
  {
   "cell_type": "code",
   "execution_count": 25,
   "metadata": {},
   "outputs": [],
   "source": [
    "all_season_df['team'] = all_season_df.merge(fixtures, on = ['opponent_team', 'kickoff_time', 'season'], how = 'left')['team_y']"
   ]
  },
  {
   "cell_type": "markdown",
   "metadata": {},
   "source": [
    "**saving as csv file**"
   ]
  },
  {
   "cell_type": "code",
   "execution_count": 26,
   "metadata": {},
   "outputs": [],
   "source": [
    "all_season_df.to_csv(r'C:\\Users\\Asus\\PycharmProjects\\FPL Project\\my_data\\all_season_merged_data.csv', index = False, encoding = 'utf-8')"
   ]
  },
  {
   "cell_type": "markdown",
   "metadata": {},
   "source": [
    "**importing the xG dataset for individual season**"
   ]
  },
  {
   "cell_type": "code",
   "execution_count": 27,
   "metadata": {},
   "outputs": [],
   "source": [
    "xg_data_1617 = pd.read_csv(r'C:\\Users\\Asus\\PycharmProjects\\Understat Data Scraper\\Data\\Season_Data\\2016_season\\2016_season data.csv', index_col=0)\n",
    "xg_data_1718 = pd.read_csv(r'C:\\Users\\Asus\\PycharmProjects\\Understat Data Scraper\\Data\\Season_Data\\2017_season\\2017_season data.csv', index_col=0)\n",
    "xg_data_1819 = pd.read_csv(r'C:\\Users\\Asus\\PycharmProjects\\Understat Data Scraper\\Data\\Season_Data\\2018_season\\2018_season data.csv', index_col=0)\n",
    "xg_data_1920 = pd.read_csv(r'C:\\Users\\Asus\\PycharmProjects\\Understat Data Scraper\\Data\\Season_Data\\2019_season\\2019_season data.csv', index_col=0)"
   ]
  },
  {
   "cell_type": "markdown",
   "metadata": {},
   "source": [
    "**cleaning the xG data and keeping the relevant columns only**"
   ]
  },
  {
   "cell_type": "code",
   "execution_count": 28,
   "metadata": {},
   "outputs": [],
   "source": [
    "xg_data_1617 = xg_data_cleanup(xg_data_1617,'1617')\n",
    "xg_data_1718 = xg_data_cleanup(xg_data_1718,'1718')\n",
    "xg_data_1819 = xg_data_cleanup(xg_data_1819,'1819')\n",
    "xg_data_1920 = xg_data_cleanup(xg_data_1920,'1920')"
   ]
  },
  {
   "cell_type": "markdown",
   "metadata": {},
   "source": [
    "**concatenating the xG data for all seasons and saving as csv**"
   ]
  },
  {
   "cell_type": "code",
   "execution_count": 29,
   "metadata": {},
   "outputs": [],
   "source": [
    "all_season_xg_data = pd.concat([xg_data_1617, xg_data_1718, xg_data_1819, xg_data_1920], ignore_index = True, axis = 0, sort = False)\n",
    "all_season_xg_data.to_csv(r'C:\\Users\\Asus\\PycharmProjects\\FPL Project\\my_data\\all_season_xg_data.csv', index = False, encoding= 'utf8')"
   ]
  },
  {
   "cell_type": "markdown",
   "metadata": {},
   "source": [
    "**concatenating the xG dataset with all_season_df to get the final dataset**\n",
    "\n",
    "It is from this dataset we will get our training, test and validation dataset"
   ]
  },
  {
   "cell_type": "code",
   "execution_count": 30,
   "metadata": {},
   "outputs": [],
   "source": [
    "final_dataset = all_season_df.merge(all_season_xg_data, on = ['team','season'], how = 'left')\n",
    "#saving data as csv file\n",
    "final_dataset.to_csv(r'C:\\Users\\Asus\\PycharmProjects\\FPL Project\\my_data\\final_dataset.csv', index = False, encoding= 'utf8')"
   ]
  },
  {
   "cell_type": "code",
   "execution_count": 31,
   "metadata": {},
   "outputs": [
    {
     "data": {
      "text/plain": [
       "Index(['player', 'gw', 'minutes', 'team', 'position', 'position_name',\n",
       "       'opponent_team', 'was_home', 'total_points', 'assists', 'bonus', 'bps',\n",
       "       'clean_sheets', 'creativity', 'goals_conceded', 'goals_scored',\n",
       "       'ict_index', 'influence', 'own_goals', 'penalties_missed',\n",
       "       'penalties_saved', 'red_cards', 'saves', 'selected', 'team_a_score',\n",
       "       'team_h_score', 'threat', 'transfers_balance', 'transfers_in',\n",
       "       'transfers_out', 'yellow_cards', 'kickoff_time', 'season', 'xG', 'xGA',\n",
       "       'npxG', 'npxGA'],\n",
       "      dtype='object')"
      ]
     },
     "execution_count": 31,
     "metadata": {},
     "output_type": "execute_result"
    }
   ],
   "source": [
    "final_dataset.columns"
   ]
  }
 ],
 "metadata": {
  "kernelspec": {
   "display_name": "Python 3",
   "language": "python",
   "name": "python3"
  },
  "language_info": {
   "codemirror_mode": {
    "name": "ipython",
    "version": 3
   },
   "file_extension": ".py",
   "mimetype": "text/x-python",
   "name": "python",
   "nbconvert_exporter": "python",
   "pygments_lexer": "ipython3",
   "version": "3.7.4"
  }
 },
 "nbformat": 4,
 "nbformat_minor": 2
}
