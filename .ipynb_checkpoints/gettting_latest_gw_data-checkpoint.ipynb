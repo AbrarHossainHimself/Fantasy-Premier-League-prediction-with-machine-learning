{
 "cells": [
  {
   "cell_type": "code",
   "execution_count": 13,
   "metadata": {},
   "outputs": [],
   "source": [
    "import pandas as pd"
   ]
  },
  {
   "cell_type": "code",
   "execution_count": 14,
   "metadata": {},
   "outputs": [
    {
     "ename": "SyntaxError",
     "evalue": "invalid syntax (<ipython-input-14-83f3afef73c8>, line 1)",
     "output_type": "error",
     "traceback": [
      "\u001b[1;36m  File \u001b[1;32m\"<ipython-input-14-83f3afef73c8>\"\u001b[1;36m, line \u001b[1;32m1\u001b[0m\n\u001b[1;33m    final_dataset..loc[:,]\u001b[0m\n\u001b[1;37m                  ^\u001b[0m\n\u001b[1;31mSyntaxError\u001b[0m\u001b[1;31m:\u001b[0m invalid syntax\n"
     ]
    }
   ],
   "source": [
    "%run helper_functions.ipynb\n",
    "%run creating_Dataframes.ipynb\n",
    "%run fixtures.ipynb\n",
    "%run training_set.ipynb"
   ]
  },
  {
   "cell_type": "markdown",
   "metadata": {},
   "source": [
    "**get latest GW**"
   ]
  },
  {
   "cell_type": "code",
   "execution_count": 15,
   "metadata": {},
   "outputs": [],
   "source": [
    "#find latest GW\n",
    "last_gw = all_season_df['gw'][all_season_df['season'] == '1920'].max()\n",
    "\n",
    "if np.isnan(last_gw):\n",
    "    last_gw = 1\n",
    "else:\n",
    "    last_gw = last_gw + 1"
   ]
  },
  {
   "cell_type": "markdown",
   "metadata": {},
   "source": [
    "**get DF for latest GW**"
   ]
  },
  {
   "cell_type": "code",
   "execution_count": 16,
   "metadata": {},
   "outputs": [],
   "source": [
    "df_latest_gw = build_season(season_paths[3],season_names[3], teams, all_players, [last_gw])"
   ]
  },
  {
   "cell_type": "code",
   "execution_count": 17,
   "metadata": {},
   "outputs": [],
   "source": [
    "df_latest_gw.drop_duplicates(inplace = True)"
   ]
  },
  {
   "cell_type": "markdown",
   "metadata": {},
   "source": [
    "**get 'player_proba' for the last GW**"
   ]
  },
  {
   "cell_type": "code",
   "execution_count": 18,
   "metadata": {},
   "outputs": [],
   "source": [
    "last_gw_player_proba = remaining_season_df[remaining_season_df['gw']== last_gw][['player','play_proba']]"
   ]
  },
  {
   "cell_type": "code",
   "execution_count": 19,
   "metadata": {},
   "outputs": [],
   "source": [
    "df_latest_gw = df_latest_gw.merge(last_gw_player_proba,on = 'player', how = 'left')"
   ]
  },
  {
   "cell_type": "code",
   "execution_count": 20,
   "metadata": {},
   "outputs": [],
   "source": [
    "df_latest_gw.drop_duplicates(inplace = True)"
   ]
  },
  {
   "cell_type": "markdown",
   "metadata": {},
   "source": [
    "**creating training DF**"
   ]
  },
  {
   "cell_type": "code",
   "execution_count": 21,
   "metadata": {},
   "outputs": [],
   "source": [
    "df_train = pd.concat([all_season_df,df_latest_gw], ignore_index = True, axis = 0,sort = False)"
   ]
  },
  {
   "cell_type": "markdown",
   "metadata": {},
   "source": [
    "**Next GW**"
   ]
  },
  {
   "cell_type": "code",
   "execution_count": 22,
   "metadata": {},
   "outputs": [],
   "source": [
    "current_gw = last_gw + 1\n",
    "fixtures_after_current_gw = pd.read_csv(path/'fixtures.csv')\n",
    "fixtures_after_current_gw = fixtures_after_current_gw[fixtures_after_current_gw['gw']>= current_gw]"
   ]
  },
  {
   "cell_type": "markdown",
   "metadata": {},
   "source": [
    "**Merging with 'teams' DF to get team codes in 'gw_fixtures' and keeping relevant columns and renaming the columns**"
   ]
  },
  {
   "cell_type": "code",
   "execution_count": 23,
   "metadata": {},
   "outputs": [],
   "source": [
    "fixtures_after_current_gw = fixtures_after_current_gw.merge(teams, left_on = 'home_team', right_on = 'team', how ='left')\n",
    "fixtures_after_current_gw = fixtures_after_current_gw.merge(teams, left_on = 'away_team', right_on = 'team', how ='left')\n",
    "\n",
    "# keeping relevant columns and renaming the columns\n",
    "fixtures_after_current_gw = fixtures_after_current_gw[['gw', 'home_team', 'away_team','team_code_x', 'team_code_y']]\n",
    "fixtures_after_current_gw = fixtures_after_current_gw.rename(index = str,\n",
    "                                 columns = {'team_code_x':'home_team_code',\n",
    "                                            'team_code_y':'away_team_code'})"
   ]
  },
  {
   "cell_type": "markdown",
   "metadata": {},
   "source": [
    "**creating DF for home teams**"
   ]
  },
  {
   "cell_type": "code",
   "execution_count": 24,
   "metadata": {},
   "outputs": [],
   "source": [
    "#creating DF for home teams\n",
    "home_df = fixtures_after_current_gw.merge(all_players, left_on = 'home_team_code', right_on = 'team_1920',how = 'left')\n",
    "#keeping relevant columns\n",
    "home_df = home_df[['gw','home_team', 'away_team','full_name','position_1920', 'cost_1920', 'play_proba_1920']]\n",
    "#reanming columns\n",
    "home_df = home_df.rename(index = str,\n",
    "                        columns = {'home_team': 'team',\n",
    "                                  'away_team': 'opponent_team',\n",
    "                                  'full_name':'player',\n",
    "                                  'position_1920':'position',\n",
    "                                  'cost_1920':'price',\n",
    "                                  'play_proba_1920':'play_proba'})\n",
    "\n",
    "#setting the flag for 'was_home' to True\n",
    "home_df['was_home'] =  True"
   ]
  },
  {
   "cell_type": "markdown",
   "metadata": {},
   "source": [
    "**creating DF for away teams**"
   ]
  },
  {
   "cell_type": "code",
   "execution_count": 25,
   "metadata": {},
   "outputs": [],
   "source": [
    "#creating DF for home teams\n",
    "away_df = fixtures_after_current_gw.merge(all_players, left_on = 'away_team_code', right_on = 'team_1920',how = 'left')\n",
    "#keeping relevant columns\n",
    "away_df = away_df[['gw','home_team', 'away_team','full_name','position_1920', 'cost_1920', 'play_proba_1920']]\n",
    "#reanming columns\n",
    "away_df = away_df.rename(index = str,\n",
    "                        columns = {'away_team': 'team',\n",
    "                                   'home_team': 'opponent_team',\n",
    "                                   'full_name':'player',\n",
    "                                   'position_1920':'position',\n",
    "                                   'cost_1920':'price',\n",
    "                                   'play_proba_1920':'play_proba'})\n",
    "\n",
    "#setting the flag for 'was_home' to True\n",
    "away_df['was_home'] =  False"
   ]
  },
  {
   "cell_type": "markdown",
   "metadata": {},
   "source": [
    "**getting average minutes for the last 5 games**"
   ]
  },
  {
   "cell_type": "code",
   "execution_count": 26,
   "metadata": {},
   "outputs": [],
   "source": [
    "recent_mins = df_train[(df_train['season'] == '1920') & \n",
    "                       (df_train['gw'] >= current_gw - 5)][['player', 'minutes','play_proba']]\n",
    "\n",
    "#keep only players who were not ruled out due to injury, i.e, play_proba = 1\n",
    "recent_mins = recent_mins[recent_mins['play_proba'] == 1]\n",
    "\n",
    "#grouping by players and taking mean\n",
    "recent_mins_dict = recent_mins.groupby(['player'])['minutes'].mean().to_dict()"
   ]
  },
  {
   "cell_type": "markdown",
   "metadata": {},
   "source": [
    "**Concatenating home_df and away_df**"
   ]
  },
  {
   "cell_type": "code",
   "execution_count": 29,
   "metadata": {},
   "outputs": [],
   "source": [
    "\n",
    "# concatenate home and away players\n",
    "remaining_season_df_after_current_gw = pd.concat([home_df,away_df], ignore_index = True, sort = False, axis =0)\n",
    "\n",
    "# add season name\n",
    "remaining_season_df_after_current_gw['season'] = '1920'\n",
    "\n",
    "# divide cost by 10 for actual cost\n",
    "remaining_season_df_after_current_gw['price'] = remaining_season_df_after_current_gw['price']/10\n",
    "\n",
    "# set availability probability\n",
    "# 0 = 0% chance, 25 = 25% chance, etc\n",
    "# 'None' or '100' = 100% chance\n",
    "remaining_season_df_after_current_gw.loc[remaining_season_df_after_current_gw['play_proba'] == 'None', 'play_proba'] = 100\n",
    "remaining_season_df_after_current_gw['play_proba'] = remaining_season_df_after_current_gw['play_proba'].astype('float') / 100"
   ]
  }
 ],
 "metadata": {
  "kernelspec": {
   "display_name": "Python 3",
   "language": "python",
   "name": "python3"
  },
  "language_info": {
   "codemirror_mode": {
    "name": "ipython",
    "version": 3
   },
   "file_extension": ".py",
   "mimetype": "text/x-python",
   "name": "python",
   "nbconvert_exporter": "python",
   "pygments_lexer": "ipython3",
   "version": "3.8.3"
  }
 },
 "nbformat": 4,
 "nbformat_minor": 2
}
